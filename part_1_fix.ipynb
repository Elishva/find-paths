{
 "cells": [
  {
   "cell_type": "code",
   "execution_count": 6,
   "metadata": {},
   "outputs": [],
   "source": [
    "%matplotlib inline\n",
    "import pandas as pd"
   ]
  },
  {
   "cell_type": "code",
   "execution_count": 2,
   "metadata": {},
   "outputs": [
    {
     "name": "stdout",
     "output_type": "stream",
     "text": [
      "Wall time: 24.9 s\n"
     ]
    }
   ],
   "source": [
    "%%time\n",
    "col_names=[\"frame\", \"x\", \"y\", \"obj\",\"size\",\"seq\",\"tbd1\",\"tbd2\",\"tbd3\",\"filename\",\"time\",\"path_time\",\"delta_time\",\"tbd4\"]\n",
    "use_cols=[\"x\", \"y\", \"obj\",\"size\",\"seq\",\"filename\",\"time\",\"delta_time\"]\n",
    "df=pd.read_csv('data/fixed.csv',  names = col_names,usecols=use_cols, parse_dates=['time'],infer_datetime_format=True)\n"
   ]
  },
  {
   "cell_type": "code",
   "execution_count": 3,
   "metadata": {},
   "outputs": [],
   "source": [
    "df['time'] = df['time'] + pd.to_timedelta(df['delta_time'])\n",
    "df = df.drop(['delta_time'], axis=1)"
   ]
  },
  {
   "cell_type": "code",
   "execution_count": 4,
   "metadata": {},
   "outputs": [],
   "source": [
    "gl_int = df.select_dtypes(include=['int64'])\n",
    "converted_int = gl_int.apply(pd.to_numeric,downcast='unsigned')\n",
    "df[converted_int.columns] = converted_int"
   ]
  },
  {
   "cell_type": "code",
   "execution_count": 7,
   "metadata": {},
   "outputs": [],
   "source": [
    "gl_obj = df.select_dtypes(include = ['object']).copy()\n",
    "converted_obj = pd.DataFrame()\n",
    "\n",
    "for col in gl_obj.columns:\n",
    "    num_unique_values = len(gl_obj[col].unique())\n",
    "    num_total_values = len(gl_obj[col])\n",
    "    if num_unique_values / num_total_values < 0.5:\n",
    "        converted_obj.loc[:,col] = gl_obj[col].astype('category')\n",
    "    else:\n",
    "        converted_obj.loc[:,col] = gl_obj[col]\n",
    "\n",
    "\n",
    "compare_obj = pd.concat([gl_obj.dtypes,converted_obj.dtypes],axis=1)\n",
    "compare_obj.columns = ['before','after']\n",
    "compare_obj.apply(pd.Series.value_counts)\n",
    "df[converted_obj.columns] = converted_obj\n"
   ]
  },
  {
   "cell_type": "code",
   "execution_count": 8,
   "metadata": {},
   "outputs": [
    {
     "data": {
      "text/html": [
       "<div>\n",
       "<style scoped>\n",
       "    .dataframe tbody tr th:only-of-type {\n",
       "        vertical-align: middle;\n",
       "    }\n",
       "\n",
       "    .dataframe tbody tr th {\n",
       "        vertical-align: top;\n",
       "    }\n",
       "\n",
       "    .dataframe thead th {\n",
       "        text-align: right;\n",
       "    }\n",
       "</style>\n",
       "<table border=\"1\" class=\"dataframe\">\n",
       "  <thead>\n",
       "    <tr style=\"text-align: right;\">\n",
       "      <th></th>\n",
       "      <th>x</th>\n",
       "      <th>y</th>\n",
       "      <th>obj</th>\n",
       "      <th>size</th>\n",
       "      <th>seq</th>\n",
       "      <th>filename</th>\n",
       "      <th>time</th>\n",
       "    </tr>\n",
       "  </thead>\n",
       "  <tbody>\n",
       "    <tr>\n",
       "      <th>0</th>\n",
       "      <td>14</td>\n",
       "      <td>329</td>\n",
       "      <td>0</td>\n",
       "      <td>362</td>\n",
       "      <td>0</td>\n",
       "      <td>14-16\\20170817012709_100.h264.txt</td>\n",
       "      <td>2017-08-17 01:27:09</td>\n",
       "    </tr>\n",
       "    <tr>\n",
       "      <th>1</th>\n",
       "      <td>4</td>\n",
       "      <td>291</td>\n",
       "      <td>1</td>\n",
       "      <td>362</td>\n",
       "      <td>0</td>\n",
       "      <td>14-16\\20170817012709_100.h264.txt</td>\n",
       "      <td>2017-08-17 01:27:09</td>\n",
       "    </tr>\n",
       "    <tr>\n",
       "      <th>2</th>\n",
       "      <td>629</td>\n",
       "      <td>7</td>\n",
       "      <td>2</td>\n",
       "      <td>362</td>\n",
       "      <td>0</td>\n",
       "      <td>14-16\\20170817012709_100.h264.txt</td>\n",
       "      <td>2017-08-17 01:27:09</td>\n",
       "    </tr>\n",
       "    <tr>\n",
       "      <th>3</th>\n",
       "      <td>253</td>\n",
       "      <td>4</td>\n",
       "      <td>3</td>\n",
       "      <td>362</td>\n",
       "      <td>0</td>\n",
       "      <td>14-16\\20170817012709_100.h264.txt</td>\n",
       "      <td>2017-08-17 01:27:09</td>\n",
       "    </tr>\n",
       "    <tr>\n",
       "      <th>4</th>\n",
       "      <td>185</td>\n",
       "      <td>4</td>\n",
       "      <td>4</td>\n",
       "      <td>362</td>\n",
       "      <td>0</td>\n",
       "      <td>14-16\\20170817012709_100.h264.txt</td>\n",
       "      <td>2017-08-17 01:27:09</td>\n",
       "    </tr>\n",
       "    <tr>\n",
       "      <th>5</th>\n",
       "      <td>5</td>\n",
       "      <td>102</td>\n",
       "      <td>5</td>\n",
       "      <td>362</td>\n",
       "      <td>0</td>\n",
       "      <td>14-16\\20170817012709_100.h264.txt</td>\n",
       "      <td>2017-08-17 01:28:17</td>\n",
       "    </tr>\n",
       "    <tr>\n",
       "      <th>6</th>\n",
       "      <td>6</td>\n",
       "      <td>102</td>\n",
       "      <td>5</td>\n",
       "      <td>362</td>\n",
       "      <td>1</td>\n",
       "      <td>14-16\\20170817012709_100.h264.txt</td>\n",
       "      <td>2017-08-17 01:28:17</td>\n",
       "    </tr>\n",
       "    <tr>\n",
       "      <th>7</th>\n",
       "      <td>6</td>\n",
       "      <td>102</td>\n",
       "      <td>5</td>\n",
       "      <td>362</td>\n",
       "      <td>2</td>\n",
       "      <td>14-16\\20170817012709_100.h264.txt</td>\n",
       "      <td>2017-08-17 01:28:17</td>\n",
       "    </tr>\n",
       "    <tr>\n",
       "      <th>8</th>\n",
       "      <td>7</td>\n",
       "      <td>102</td>\n",
       "      <td>5</td>\n",
       "      <td>362</td>\n",
       "      <td>3</td>\n",
       "      <td>14-16\\20170817012709_100.h264.txt</td>\n",
       "      <td>2017-08-17 01:28:17</td>\n",
       "    </tr>\n",
       "    <tr>\n",
       "      <th>9</th>\n",
       "      <td>9</td>\n",
       "      <td>102</td>\n",
       "      <td>5</td>\n",
       "      <td>362</td>\n",
       "      <td>4</td>\n",
       "      <td>14-16\\20170817012709_100.h264.txt</td>\n",
       "      <td>2017-08-17 01:28:17</td>\n",
       "    </tr>\n",
       "  </tbody>\n",
       "</table>\n",
       "</div>"
      ],
      "text/plain": [
       "     x    y  obj  size  seq                           filename  \\\n",
       "0   14  329    0   362    0  14-16\\20170817012709_100.h264.txt   \n",
       "1    4  291    1   362    0  14-16\\20170817012709_100.h264.txt   \n",
       "2  629    7    2   362    0  14-16\\20170817012709_100.h264.txt   \n",
       "3  253    4    3   362    0  14-16\\20170817012709_100.h264.txt   \n",
       "4  185    4    4   362    0  14-16\\20170817012709_100.h264.txt   \n",
       "5    5  102    5   362    0  14-16\\20170817012709_100.h264.txt   \n",
       "6    6  102    5   362    1  14-16\\20170817012709_100.h264.txt   \n",
       "7    6  102    5   362    2  14-16\\20170817012709_100.h264.txt   \n",
       "8    7  102    5   362    3  14-16\\20170817012709_100.h264.txt   \n",
       "9    9  102    5   362    4  14-16\\20170817012709_100.h264.txt   \n",
       "\n",
       "                 time  \n",
       "0 2017-08-17 01:27:09  \n",
       "1 2017-08-17 01:27:09  \n",
       "2 2017-08-17 01:27:09  \n",
       "3 2017-08-17 01:27:09  \n",
       "4 2017-08-17 01:27:09  \n",
       "5 2017-08-17 01:28:17  \n",
       "6 2017-08-17 01:28:17  \n",
       "7 2017-08-17 01:28:17  \n",
       "8 2017-08-17 01:28:17  \n",
       "9 2017-08-17 01:28:17  "
      ]
     },
     "execution_count": 8,
     "metadata": {},
     "output_type": "execute_result"
    }
   ],
   "source": [
    "df.head(10)"
   ]
  },
  {
   "cell_type": "code",
   "execution_count": 9,
   "metadata": {},
   "outputs": [
    {
     "name": "stdout",
     "output_type": "stream",
     "text": [
      "<class 'pandas.core.frame.DataFrame'>\n",
      "RangeIndex: 2997979 entries, 0 to 2997978\n",
      "Data columns (total 7 columns):\n",
      "x           uint16\n",
      "y           uint16\n",
      "obj         uint16\n",
      "size        uint32\n",
      "seq         uint16\n",
      "filename    category\n",
      "time        datetime64[ns]\n",
      "dtypes: category(1), datetime64[ns](1), uint16(4), uint32(1)\n",
      "memory usage: 62.9 MB\n"
     ]
    }
   ],
   "source": [
    "df.info(memory_usage='deep')"
   ]
  },
  {
   "cell_type": "code",
   "execution_count": 10,
   "metadata": {},
   "outputs": [],
   "source": [
    "df.to_pickle(\"data/pickle.pkl.xz\")"
   ]
  },
  {
   "cell_type": "code",
   "execution_count": null,
   "metadata": {},
   "outputs": [],
   "source": []
  }
 ],
 "metadata": {
  "kernelspec": {
   "display_name": "Python 3",
   "language": "python",
   "name": "python3"
  },
  "language_info": {
   "codemirror_mode": {
    "name": "ipython",
    "version": 3
   },
   "file_extension": ".py",
   "mimetype": "text/x-python",
   "name": "python",
   "nbconvert_exporter": "python",
   "pygments_lexer": "ipython3",
   "version": "3.7.0"
  }
 },
 "nbformat": 4,
 "nbformat_minor": 2
}
