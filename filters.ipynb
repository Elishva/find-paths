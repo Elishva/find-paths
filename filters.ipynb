{
 "cells": [
  {
   "cell_type": "code",
   "execution_count": 2,
   "metadata": {},
   "outputs": [
    {
     "name": "stdout",
     "output_type": "stream",
     "text": [
      "Populating the interactive namespace from numpy and matplotlib\n"
     ]
    }
   ],
   "source": [
    "%pylab inline\n",
    "import pandas as pd"
   ]
  },
  {
   "cell_type": "code",
   "execution_count": 3,
   "metadata": {},
   "outputs": [
    {
     "name": "stdout",
     "output_type": "stream",
     "text": [
      "Wall time: 2.16 s\n"
     ]
    }
   ],
   "source": [
    "%%time\n",
    "df = pd.read_pickle(\"data/pickle.pkl.xz\")"
   ]
  },
  {
   "cell_type": "code",
   "execution_count": 24,
   "metadata": {},
   "outputs": [
    {
     "data": {
      "text/plain": [
       "2997979"
      ]
     },
     "execution_count": 24,
     "metadata": {},
     "output_type": "execute_result"
    }
   ],
   "source": [
    "len(df)"
   ]
  },
  {
   "cell_type": "code",
   "execution_count": 25,
   "metadata": {},
   "outputs": [
    {
     "name": "stdout",
     "output_type": "stream",
     "text": [
      "<class 'pandas.core.frame.DataFrame'>\n",
      "RangeIndex: 2997979 entries, 0 to 2997978\n",
      "Data columns (total 10 columns):\n",
      "frame         uint16\n",
      "x             uint16\n",
      "y             uint16\n",
      "obj           uint16\n",
      "size          uint32\n",
      "seq           uint16\n",
      "filename      category\n",
      "start         datetime64[ns]\n",
      "path_time     category\n",
      "delta_time    category\n",
      "dtypes: category(3), datetime64[ns](1), uint16(5), uint32(1)\n",
      "memory usage: 86.0 MB\n"
     ]
    }
   ],
   "source": [
    "df.info()"
   ]
  },
  {
   "cell_type": "code",
   "execution_count": 26,
   "metadata": {},
   "outputs": [
    {
     "data": {
      "text/html": [
       "<div>\n",
       "<style scoped>\n",
       "    .dataframe tbody tr th:only-of-type {\n",
       "        vertical-align: middle;\n",
       "    }\n",
       "\n",
       "    .dataframe tbody tr th {\n",
       "        vertical-align: top;\n",
       "    }\n",
       "\n",
       "    .dataframe thead th {\n",
       "        text-align: right;\n",
       "    }\n",
       "</style>\n",
       "<table border=\"1\" class=\"dataframe\">\n",
       "  <thead>\n",
       "    <tr style=\"text-align: right;\">\n",
       "      <th></th>\n",
       "      <th>frame</th>\n",
       "      <th>x</th>\n",
       "      <th>y</th>\n",
       "      <th>obj</th>\n",
       "      <th>size</th>\n",
       "      <th>seq</th>\n",
       "      <th>filename</th>\n",
       "      <th>start</th>\n",
       "      <th>path_time</th>\n",
       "      <th>delta_time</th>\n",
       "    </tr>\n",
       "  </thead>\n",
       "  <tbody>\n",
       "    <tr>\n",
       "      <th>0</th>\n",
       "      <td>0</td>\n",
       "      <td>14</td>\n",
       "      <td>329</td>\n",
       "      <td>0</td>\n",
       "      <td>362</td>\n",
       "      <td>0</td>\n",
       "      <td>14-16\\20170817012709_100.h264.txt</td>\n",
       "      <td>2017-08-17 01:27:09</td>\n",
       "      <td>01:27:09</td>\n",
       "      <td>0:00:00</td>\n",
       "    </tr>\n",
       "    <tr>\n",
       "      <th>1</th>\n",
       "      <td>0</td>\n",
       "      <td>4</td>\n",
       "      <td>291</td>\n",
       "      <td>1</td>\n",
       "      <td>362</td>\n",
       "      <td>0</td>\n",
       "      <td>14-16\\20170817012709_100.h264.txt</td>\n",
       "      <td>2017-08-17 01:27:09</td>\n",
       "      <td>01:27:09</td>\n",
       "      <td>0:00:00</td>\n",
       "    </tr>\n",
       "    <tr>\n",
       "      <th>2</th>\n",
       "      <td>0</td>\n",
       "      <td>629</td>\n",
       "      <td>7</td>\n",
       "      <td>2</td>\n",
       "      <td>362</td>\n",
       "      <td>0</td>\n",
       "      <td>14-16\\20170817012709_100.h264.txt</td>\n",
       "      <td>2017-08-17 01:27:09</td>\n",
       "      <td>01:27:09</td>\n",
       "      <td>0:00:00</td>\n",
       "    </tr>\n",
       "    <tr>\n",
       "      <th>3</th>\n",
       "      <td>0</td>\n",
       "      <td>253</td>\n",
       "      <td>4</td>\n",
       "      <td>3</td>\n",
       "      <td>362</td>\n",
       "      <td>0</td>\n",
       "      <td>14-16\\20170817012709_100.h264.txt</td>\n",
       "      <td>2017-08-17 01:27:09</td>\n",
       "      <td>01:27:09</td>\n",
       "      <td>0:00:00</td>\n",
       "    </tr>\n",
       "    <tr>\n",
       "      <th>4</th>\n",
       "      <td>0</td>\n",
       "      <td>185</td>\n",
       "      <td>4</td>\n",
       "      <td>4</td>\n",
       "      <td>362</td>\n",
       "      <td>0</td>\n",
       "      <td>14-16\\20170817012709_100.h264.txt</td>\n",
       "      <td>2017-08-17 01:27:09</td>\n",
       "      <td>01:27:09</td>\n",
       "      <td>0:00:00</td>\n",
       "    </tr>\n",
       "  </tbody>\n",
       "</table>\n",
       "</div>"
      ],
      "text/plain": [
       "   frame    x    y  obj  size  seq                           filename  \\\n",
       "0      0   14  329    0   362    0  14-16\\20170817012709_100.h264.txt   \n",
       "1      0    4  291    1   362    0  14-16\\20170817012709_100.h264.txt   \n",
       "2      0  629    7    2   362    0  14-16\\20170817012709_100.h264.txt   \n",
       "3      0  253    4    3   362    0  14-16\\20170817012709_100.h264.txt   \n",
       "4      0  185    4    4   362    0  14-16\\20170817012709_100.h264.txt   \n",
       "\n",
       "                start path_time delta_time  \n",
       "0 2017-08-17 01:27:09  01:27:09    0:00:00  \n",
       "1 2017-08-17 01:27:09  01:27:09    0:00:00  \n",
       "2 2017-08-17 01:27:09  01:27:09    0:00:00  \n",
       "3 2017-08-17 01:27:09  01:27:09    0:00:00  \n",
       "4 2017-08-17 01:27:09  01:27:09    0:00:00  "
      ]
     },
     "execution_count": 26,
     "metadata": {},
     "output_type": "execute_result"
    }
   ],
   "source": [
    "df.head()"
   ]
  },
  {
   "cell_type": "code",
   "execution_count": 27,
   "metadata": {},
   "outputs": [
    {
     "data": {
      "text/html": [
       "<div>\n",
       "<style scoped>\n",
       "    .dataframe tbody tr th:only-of-type {\n",
       "        vertical-align: middle;\n",
       "    }\n",
       "\n",
       "    .dataframe tbody tr th {\n",
       "        vertical-align: top;\n",
       "    }\n",
       "\n",
       "    .dataframe thead th {\n",
       "        text-align: right;\n",
       "    }\n",
       "</style>\n",
       "<table border=\"1\" class=\"dataframe\">\n",
       "  <thead>\n",
       "    <tr style=\"text-align: right;\">\n",
       "      <th></th>\n",
       "      <th>frame</th>\n",
       "      <th>x</th>\n",
       "      <th>y</th>\n",
       "      <th>obj</th>\n",
       "      <th>size</th>\n",
       "      <th>seq</th>\n",
       "    </tr>\n",
       "  </thead>\n",
       "  <tbody>\n",
       "    <tr>\n",
       "      <th>count</th>\n",
       "      <td>2.997979e+06</td>\n",
       "      <td>2.997979e+06</td>\n",
       "      <td>2.997979e+06</td>\n",
       "      <td>2.997979e+06</td>\n",
       "      <td>2.997979e+06</td>\n",
       "      <td>2.997979e+06</td>\n",
       "    </tr>\n",
       "    <tr>\n",
       "      <th>mean</th>\n",
       "      <td>8.289598e+03</td>\n",
       "      <td>2.730162e+02</td>\n",
       "      <td>1.480890e+02</td>\n",
       "      <td>5.053650e+01</td>\n",
       "      <td>4.675812e+07</td>\n",
       "      <td>1.158957e+02</td>\n",
       "    </tr>\n",
       "    <tr>\n",
       "      <th>std</th>\n",
       "      <td>5.189150e+03</td>\n",
       "      <td>1.609973e+02</td>\n",
       "      <td>7.650773e+01</td>\n",
       "      <td>8.449936e+01</td>\n",
       "      <td>3.391170e+07</td>\n",
       "      <td>1.502103e+02</td>\n",
       "    </tr>\n",
       "    <tr>\n",
       "      <th>min</th>\n",
       "      <td>0.000000e+00</td>\n",
       "      <td>3.000000e+00</td>\n",
       "      <td>3.000000e+00</td>\n",
       "      <td>0.000000e+00</td>\n",
       "      <td>3.620000e+02</td>\n",
       "      <td>0.000000e+00</td>\n",
       "    </tr>\n",
       "    <tr>\n",
       "      <th>25%</th>\n",
       "      <td>3.712000e+03</td>\n",
       "      <td>1.440000e+02</td>\n",
       "      <td>9.500000e+01</td>\n",
       "      <td>1.200000e+01</td>\n",
       "      <td>1.419073e+07</td>\n",
       "      <td>1.600000e+01</td>\n",
       "    </tr>\n",
       "    <tr>\n",
       "      <th>50%</th>\n",
       "      <td>8.119000e+03</td>\n",
       "      <td>2.690000e+02</td>\n",
       "      <td>1.340000e+02</td>\n",
       "      <td>2.800000e+01</td>\n",
       "      <td>4.510348e+07</td>\n",
       "      <td>5.900000e+01</td>\n",
       "    </tr>\n",
       "    <tr>\n",
       "      <th>75%</th>\n",
       "      <td>1.263600e+04</td>\n",
       "      <td>4.020000e+02</td>\n",
       "      <td>2.050000e+02</td>\n",
       "      <td>5.100000e+01</td>\n",
       "      <td>5.399656e+07</td>\n",
       "      <td>1.620000e+02</td>\n",
       "    </tr>\n",
       "    <tr>\n",
       "      <th>max</th>\n",
       "      <td>1.847600e+04</td>\n",
       "      <td>6.370000e+02</td>\n",
       "      <td>3.570000e+02</td>\n",
       "      <td>6.430000e+02</td>\n",
       "      <td>1.265195e+08</td>\n",
       "      <td>1.977000e+03</td>\n",
       "    </tr>\n",
       "  </tbody>\n",
       "</table>\n",
       "</div>"
      ],
      "text/plain": [
       "              frame             x             y           obj          size  \\\n",
       "count  2.997979e+06  2.997979e+06  2.997979e+06  2.997979e+06  2.997979e+06   \n",
       "mean   8.289598e+03  2.730162e+02  1.480890e+02  5.053650e+01  4.675812e+07   \n",
       "std    5.189150e+03  1.609973e+02  7.650773e+01  8.449936e+01  3.391170e+07   \n",
       "min    0.000000e+00  3.000000e+00  3.000000e+00  0.000000e+00  3.620000e+02   \n",
       "25%    3.712000e+03  1.440000e+02  9.500000e+01  1.200000e+01  1.419073e+07   \n",
       "50%    8.119000e+03  2.690000e+02  1.340000e+02  2.800000e+01  4.510348e+07   \n",
       "75%    1.263600e+04  4.020000e+02  2.050000e+02  5.100000e+01  5.399656e+07   \n",
       "max    1.847600e+04  6.370000e+02  3.570000e+02  6.430000e+02  1.265195e+08   \n",
       "\n",
       "                seq  \n",
       "count  2.997979e+06  \n",
       "mean   1.158957e+02  \n",
       "std    1.502103e+02  \n",
       "min    0.000000e+00  \n",
       "25%    1.600000e+01  \n",
       "50%    5.900000e+01  \n",
       "75%    1.620000e+02  \n",
       "max    1.977000e+03  "
      ]
     },
     "execution_count": 27,
     "metadata": {},
     "output_type": "execute_result"
    }
   ],
   "source": [
    "df.describe()"
   ]
  },
  {
   "cell_type": "code",
   "execution_count": 125,
   "metadata": {},
   "outputs": [],
   "source": [
    "df2 = df.groupby(['x','y']).size().sort_values() "
   ]
  },
  {
   "cell_type": "code",
   "execution_count": 127,
   "metadata": {},
   "outputs": [],
   "source": [
    "df2.name=\"v\""
   ]
  },
  {
   "cell_type": "code",
   "execution_count": 128,
   "metadata": {},
   "outputs": [
    {
     "data": {
      "text/html": [
       "<div>\n",
       "<style scoped>\n",
       "    .dataframe tbody tr th:only-of-type {\n",
       "        vertical-align: middle;\n",
       "    }\n",
       "\n",
       "    .dataframe tbody tr th {\n",
       "        vertical-align: top;\n",
       "    }\n",
       "\n",
       "    .dataframe thead th {\n",
       "        text-align: right;\n",
       "    }\n",
       "</style>\n",
       "<table border=\"1\" class=\"dataframe\">\n",
       "  <thead>\n",
       "    <tr style=\"text-align: right;\">\n",
       "      <th></th>\n",
       "      <th>x</th>\n",
       "      <th>y</th>\n",
       "      <th>v</th>\n",
       "    </tr>\n",
       "  </thead>\n",
       "  <tbody>\n",
       "    <tr>\n",
       "      <th>0</th>\n",
       "      <td>384</td>\n",
       "      <td>320</td>\n",
       "      <td>1</td>\n",
       "    </tr>\n",
       "    <tr>\n",
       "      <th>1</th>\n",
       "      <td>537</td>\n",
       "      <td>56</td>\n",
       "      <td>1</td>\n",
       "    </tr>\n",
       "    <tr>\n",
       "      <th>2</th>\n",
       "      <td>537</td>\n",
       "      <td>36</td>\n",
       "      <td>1</td>\n",
       "    </tr>\n",
       "    <tr>\n",
       "      <th>3</th>\n",
       "      <td>537</td>\n",
       "      <td>30</td>\n",
       "      <td>1</td>\n",
       "    </tr>\n",
       "    <tr>\n",
       "      <th>4</th>\n",
       "      <td>102</td>\n",
       "      <td>84</td>\n",
       "      <td>1</td>\n",
       "    </tr>\n",
       "    <tr>\n",
       "      <th>5</th>\n",
       "      <td>537</td>\n",
       "      <td>29</td>\n",
       "      <td>1</td>\n",
       "    </tr>\n",
       "    <tr>\n",
       "      <th>6</th>\n",
       "      <td>537</td>\n",
       "      <td>25</td>\n",
       "      <td>1</td>\n",
       "    </tr>\n",
       "    <tr>\n",
       "      <th>7</th>\n",
       "      <td>102</td>\n",
       "      <td>54</td>\n",
       "      <td>1</td>\n",
       "    </tr>\n",
       "    <tr>\n",
       "      <th>8</th>\n",
       "      <td>537</td>\n",
       "      <td>67</td>\n",
       "      <td>1</td>\n",
       "    </tr>\n",
       "    <tr>\n",
       "      <th>9</th>\n",
       "      <td>102</td>\n",
       "      <td>4</td>\n",
       "      <td>1</td>\n",
       "    </tr>\n",
       "    <tr>\n",
       "      <th>10</th>\n",
       "      <td>101</td>\n",
       "      <td>336</td>\n",
       "      <td>1</td>\n",
       "    </tr>\n",
       "    <tr>\n",
       "      <th>11</th>\n",
       "      <td>101</td>\n",
       "      <td>324</td>\n",
       "      <td>1</td>\n",
       "    </tr>\n",
       "    <tr>\n",
       "      <th>12</th>\n",
       "      <td>101</td>\n",
       "      <td>281</td>\n",
       "      <td>1</td>\n",
       "    </tr>\n",
       "    <tr>\n",
       "      <th>13</th>\n",
       "      <td>101</td>\n",
       "      <td>279</td>\n",
       "      <td>1</td>\n",
       "    </tr>\n",
       "    <tr>\n",
       "      <th>14</th>\n",
       "      <td>537</td>\n",
       "      <td>11</td>\n",
       "      <td>1</td>\n",
       "    </tr>\n",
       "    <tr>\n",
       "      <th>15</th>\n",
       "      <td>537</td>\n",
       "      <td>10</td>\n",
       "      <td>1</td>\n",
       "    </tr>\n",
       "    <tr>\n",
       "      <th>16</th>\n",
       "      <td>537</td>\n",
       "      <td>9</td>\n",
       "      <td>1</td>\n",
       "    </tr>\n",
       "    <tr>\n",
       "      <th>17</th>\n",
       "      <td>101</td>\n",
       "      <td>340</td>\n",
       "      <td>1</td>\n",
       "    </tr>\n",
       "    <tr>\n",
       "      <th>18</th>\n",
       "      <td>101</td>\n",
       "      <td>275</td>\n",
       "      <td>1</td>\n",
       "    </tr>\n",
       "    <tr>\n",
       "      <th>19</th>\n",
       "      <td>537</td>\n",
       "      <td>75</td>\n",
       "      <td>1</td>\n",
       "    </tr>\n",
       "    <tr>\n",
       "      <th>20</th>\n",
       "      <td>537</td>\n",
       "      <td>94</td>\n",
       "      <td>1</td>\n",
       "    </tr>\n",
       "    <tr>\n",
       "      <th>21</th>\n",
       "      <td>102</td>\n",
       "      <td>157</td>\n",
       "      <td>1</td>\n",
       "    </tr>\n",
       "    <tr>\n",
       "      <th>22</th>\n",
       "      <td>403</td>\n",
       "      <td>290</td>\n",
       "      <td>1</td>\n",
       "    </tr>\n",
       "    <tr>\n",
       "      <th>23</th>\n",
       "      <td>403</td>\n",
       "      <td>297</td>\n",
       "      <td>1</td>\n",
       "    </tr>\n",
       "    <tr>\n",
       "      <th>24</th>\n",
       "      <td>403</td>\n",
       "      <td>328</td>\n",
       "      <td>1</td>\n",
       "    </tr>\n",
       "    <tr>\n",
       "      <th>25</th>\n",
       "      <td>595</td>\n",
       "      <td>166</td>\n",
       "      <td>1</td>\n",
       "    </tr>\n",
       "    <tr>\n",
       "      <th>26</th>\n",
       "      <td>403</td>\n",
       "      <td>354</td>\n",
       "      <td>1</td>\n",
       "    </tr>\n",
       "    <tr>\n",
       "      <th>27</th>\n",
       "      <td>403</td>\n",
       "      <td>355</td>\n",
       "      <td>1</td>\n",
       "    </tr>\n",
       "    <tr>\n",
       "      <th>28</th>\n",
       "      <td>537</td>\n",
       "      <td>84</td>\n",
       "      <td>1</td>\n",
       "    </tr>\n",
       "    <tr>\n",
       "      <th>29</th>\n",
       "      <td>102</td>\n",
       "      <td>140</td>\n",
       "      <td>1</td>\n",
       "    </tr>\n",
       "    <tr>\n",
       "      <th>...</th>\n",
       "      <td>...</td>\n",
       "      <td>...</td>\n",
       "      <td>...</td>\n",
       "    </tr>\n",
       "    <tr>\n",
       "      <th>104880</th>\n",
       "      <td>15</td>\n",
       "      <td>236</td>\n",
       "      <td>747</td>\n",
       "    </tr>\n",
       "    <tr>\n",
       "      <th>104881</th>\n",
       "      <td>217</td>\n",
       "      <td>130</td>\n",
       "      <td>755</td>\n",
       "    </tr>\n",
       "    <tr>\n",
       "      <th>104882</th>\n",
       "      <td>14</td>\n",
       "      <td>232</td>\n",
       "      <td>774</td>\n",
       "    </tr>\n",
       "    <tr>\n",
       "      <th>104883</th>\n",
       "      <td>14</td>\n",
       "      <td>238</td>\n",
       "      <td>776</td>\n",
       "    </tr>\n",
       "    <tr>\n",
       "      <th>104884</th>\n",
       "      <td>46</td>\n",
       "      <td>252</td>\n",
       "      <td>786</td>\n",
       "    </tr>\n",
       "    <tr>\n",
       "      <th>104885</th>\n",
       "      <td>15</td>\n",
       "      <td>237</td>\n",
       "      <td>787</td>\n",
       "    </tr>\n",
       "    <tr>\n",
       "      <th>104886</th>\n",
       "      <td>236</td>\n",
       "      <td>165</td>\n",
       "      <td>795</td>\n",
       "    </tr>\n",
       "    <tr>\n",
       "      <th>104887</th>\n",
       "      <td>301</td>\n",
       "      <td>5</td>\n",
       "      <td>800</td>\n",
       "    </tr>\n",
       "    <tr>\n",
       "      <th>104888</th>\n",
       "      <td>14</td>\n",
       "      <td>233</td>\n",
       "      <td>806</td>\n",
       "    </tr>\n",
       "    <tr>\n",
       "      <th>104889</th>\n",
       "      <td>431</td>\n",
       "      <td>103</td>\n",
       "      <td>822</td>\n",
       "    </tr>\n",
       "    <tr>\n",
       "      <th>104890</th>\n",
       "      <td>273</td>\n",
       "      <td>13</td>\n",
       "      <td>830</td>\n",
       "    </tr>\n",
       "    <tr>\n",
       "      <th>104891</th>\n",
       "      <td>471</td>\n",
       "      <td>50</td>\n",
       "      <td>837</td>\n",
       "    </tr>\n",
       "    <tr>\n",
       "      <th>104892</th>\n",
       "      <td>25</td>\n",
       "      <td>267</td>\n",
       "      <td>840</td>\n",
       "    </tr>\n",
       "    <tr>\n",
       "      <th>104893</th>\n",
       "      <td>16</td>\n",
       "      <td>237</td>\n",
       "      <td>849</td>\n",
       "    </tr>\n",
       "    <tr>\n",
       "      <th>104894</th>\n",
       "      <td>468</td>\n",
       "      <td>49</td>\n",
       "      <td>850</td>\n",
       "    </tr>\n",
       "    <tr>\n",
       "      <th>104895</th>\n",
       "      <td>14</td>\n",
       "      <td>231</td>\n",
       "      <td>867</td>\n",
       "    </tr>\n",
       "    <tr>\n",
       "      <th>104896</th>\n",
       "      <td>13</td>\n",
       "      <td>237</td>\n",
       "      <td>893</td>\n",
       "    </tr>\n",
       "    <tr>\n",
       "      <th>104897</th>\n",
       "      <td>45</td>\n",
       "      <td>249</td>\n",
       "      <td>912</td>\n",
       "    </tr>\n",
       "    <tr>\n",
       "      <th>104898</th>\n",
       "      <td>15</td>\n",
       "      <td>240</td>\n",
       "      <td>923</td>\n",
       "    </tr>\n",
       "    <tr>\n",
       "      <th>104899</th>\n",
       "      <td>31</td>\n",
       "      <td>76</td>\n",
       "      <td>948</td>\n",
       "    </tr>\n",
       "    <tr>\n",
       "      <th>104900</th>\n",
       "      <td>25</td>\n",
       "      <td>266</td>\n",
       "      <td>967</td>\n",
       "    </tr>\n",
       "    <tr>\n",
       "      <th>104901</th>\n",
       "      <td>218</td>\n",
       "      <td>131</td>\n",
       "      <td>990</td>\n",
       "    </tr>\n",
       "    <tr>\n",
       "      <th>104902</th>\n",
       "      <td>15</td>\n",
       "      <td>238</td>\n",
       "      <td>1072</td>\n",
       "    </tr>\n",
       "    <tr>\n",
       "      <th>104903</th>\n",
       "      <td>213</td>\n",
       "      <td>130</td>\n",
       "      <td>1116</td>\n",
       "    </tr>\n",
       "    <tr>\n",
       "      <th>104904</th>\n",
       "      <td>45</td>\n",
       "      <td>250</td>\n",
       "      <td>1141</td>\n",
       "    </tr>\n",
       "    <tr>\n",
       "      <th>104905</th>\n",
       "      <td>16</td>\n",
       "      <td>240</td>\n",
       "      <td>1168</td>\n",
       "    </tr>\n",
       "    <tr>\n",
       "      <th>104906</th>\n",
       "      <td>4</td>\n",
       "      <td>101</td>\n",
       "      <td>1299</td>\n",
       "    </tr>\n",
       "    <tr>\n",
       "      <th>104907</th>\n",
       "      <td>14</td>\n",
       "      <td>240</td>\n",
       "      <td>1367</td>\n",
       "    </tr>\n",
       "    <tr>\n",
       "      <th>104908</th>\n",
       "      <td>16</td>\n",
       "      <td>248</td>\n",
       "      <td>1942</td>\n",
       "    </tr>\n",
       "    <tr>\n",
       "      <th>104909</th>\n",
       "      <td>38</td>\n",
       "      <td>246</td>\n",
       "      <td>5678</td>\n",
       "    </tr>\n",
       "  </tbody>\n",
       "</table>\n",
       "<p>104910 rows × 3 columns</p>\n",
       "</div>"
      ],
      "text/plain": [
       "          x    y     v\n",
       "0       384  320     1\n",
       "1       537   56     1\n",
       "2       537   36     1\n",
       "3       537   30     1\n",
       "4       102   84     1\n",
       "5       537   29     1\n",
       "6       537   25     1\n",
       "7       102   54     1\n",
       "8       537   67     1\n",
       "9       102    4     1\n",
       "10      101  336     1\n",
       "11      101  324     1\n",
       "12      101  281     1\n",
       "13      101  279     1\n",
       "14      537   11     1\n",
       "15      537   10     1\n",
       "16      537    9     1\n",
       "17      101  340     1\n",
       "18      101  275     1\n",
       "19      537   75     1\n",
       "20      537   94     1\n",
       "21      102  157     1\n",
       "22      403  290     1\n",
       "23      403  297     1\n",
       "24      403  328     1\n",
       "25      595  166     1\n",
       "26      403  354     1\n",
       "27      403  355     1\n",
       "28      537   84     1\n",
       "29      102  140     1\n",
       "...     ...  ...   ...\n",
       "104880   15  236   747\n",
       "104881  217  130   755\n",
       "104882   14  232   774\n",
       "104883   14  238   776\n",
       "104884   46  252   786\n",
       "104885   15  237   787\n",
       "104886  236  165   795\n",
       "104887  301    5   800\n",
       "104888   14  233   806\n",
       "104889  431  103   822\n",
       "104890  273   13   830\n",
       "104891  471   50   837\n",
       "104892   25  267   840\n",
       "104893   16  237   849\n",
       "104894  468   49   850\n",
       "104895   14  231   867\n",
       "104896   13  237   893\n",
       "104897   45  249   912\n",
       "104898   15  240   923\n",
       "104899   31   76   948\n",
       "104900   25  266   967\n",
       "104901  218  131   990\n",
       "104902   15  238  1072\n",
       "104903  213  130  1116\n",
       "104904   45  250  1141\n",
       "104905   16  240  1168\n",
       "104906    4  101  1299\n",
       "104907   14  240  1367\n",
       "104908   16  248  1942\n",
       "104909   38  246  5678\n",
       "\n",
       "[104910 rows x 3 columns]"
      ]
     },
     "execution_count": 128,
     "metadata": {},
     "output_type": "execute_result"
    }
   ],
   "source": [
    "df3 = df2.reset_index()\n",
    "df3"
   ]
  },
  {
   "cell_type": "code",
   "execution_count": 121,
   "metadata": {},
   "outputs": [],
   "source": [
    "mat = zeros((650,400))"
   ]
  },
  {
   "cell_type": "code",
   "execution_count": 131,
   "metadata": {},
   "outputs": [],
   "source": [
    "# df3[0]\n",
    "im = imread('data/paths0.png')\n",
    "mat = zeros(im.shape)\n",
    "mat[df3.y, df3.x] = 1\n",
    "# imshow(mat)\n",
    "\n",
    "\n",
    "# im.shape"
   ]
  },
  {
   "cell_type": "code",
   "execution_count": 132,
   "metadata": {},
   "outputs": [
    {
     "data": {
      "text/plain": [
       "array([[[0., 0., 0.],\n",
       "        [0., 0., 0.],\n",
       "        [0., 0., 0.],\n",
       "        ...,\n",
       "        [0., 0., 0.],\n",
       "        [0., 0., 0.],\n",
       "        [0., 0., 0.]],\n",
       "\n",
       "       [[0., 0., 0.],\n",
       "        [0., 0., 0.],\n",
       "        [0., 0., 0.],\n",
       "        ...,\n",
       "        [0., 0., 0.],\n",
       "        [0., 0., 0.],\n",
       "        [0., 0., 0.]],\n",
       "\n",
       "       [[0., 0., 0.],\n",
       "        [0., 0., 0.],\n",
       "        [0., 0., 0.],\n",
       "        ...,\n",
       "        [0., 0., 0.],\n",
       "        [0., 0., 0.],\n",
       "        [0., 0., 0.]],\n",
       "\n",
       "       ...,\n",
       "\n",
       "       [[0., 0., 0.],\n",
       "        [0., 0., 0.],\n",
       "        [0., 0., 0.],\n",
       "        ...,\n",
       "        [1., 1., 1.],\n",
       "        [0., 0., 0.],\n",
       "        [0., 0., 0.]],\n",
       "\n",
       "       [[0., 0., 0.],\n",
       "        [0., 0., 0.],\n",
       "        [0., 0., 0.],\n",
       "        ...,\n",
       "        [0., 0., 0.],\n",
       "        [0., 0., 0.],\n",
       "        [0., 0., 0.]],\n",
       "\n",
       "       [[0., 0., 0.],\n",
       "        [0., 0., 0.],\n",
       "        [0., 0., 0.],\n",
       "        ...,\n",
       "        [0., 0., 0.],\n",
       "        [0., 0., 0.],\n",
       "        [0., 0., 0.]]])"
      ]
     },
     "execution_count": 132,
     "metadata": {},
     "output_type": "execute_result"
    }
   ],
   "source": [
    "mat"
   ]
  },
  {
   "cell_type": "code",
   "execution_count": 39,
   "metadata": {},
   "outputs": [
    {
     "data": {
      "text/plain": [
       "array([[10, 10, 20],\n",
       "       [10, 20, 10]])"
      ]
     },
     "execution_count": 39,
     "metadata": {},
     "output_type": "execute_result"
    }
   ],
   "source": [
    "array([[10,10,20],[10,20,10]])"
   ]
  },
  {
   "cell_type": "code",
   "execution_count": 54,
   "metadata": {},
   "outputs": [
    {
     "data": {
      "text/plain": [
       "array([[ 0,  1,  2,  3,  4,  5,  6,  7,  8,  9],\n",
       "       [10, 11, 12, 13, 14, 15, 16, 17, 18, 19]])"
      ]
     },
     "execution_count": 54,
     "metadata": {},
     "output_type": "execute_result"
    }
   ],
   "source": [
    "a =array([])\n",
    "a"
   ]
  },
  {
   "cell_type": "code",
   "execution_count": 1,
   "metadata": {},
   "outputs": [
    {
     "ename": "NameError",
     "evalue": "name 'imshow' is not defined",
     "output_type": "error",
     "traceback": [
      "\u001b[1;31m---------------------------------------------------------------------------\u001b[0m",
      "\u001b[1;31mNameError\u001b[0m                                 Traceback (most recent call last)",
      "\u001b[1;32m<ipython-input-1-ab523fc4d788>\u001b[0m in \u001b[0;36m<module>\u001b[1;34m\u001b[0m\n\u001b[1;32m----> 1\u001b[1;33m \u001b[0mimshow\u001b[0m\u001b[1;33m(\u001b[0m\u001b[0mim\u001b[0m\u001b[1;33m)\u001b[0m\u001b[1;33m\u001b[0m\u001b[0m\n\u001b[0m",
      "\u001b[1;31mNameError\u001b[0m: name 'imshow' is not defined"
     ]
    }
   ],
   "source": [
    "# imshow(im)\n",
    "imshow(mat,alpha=0.4)"
   ]
  },
  {
   "cell_type": "code",
   "execution_count": 143,
   "metadata": {},
   "outputs": [],
   "source": [
    "fn=df.filename.head()[0]"
   ]
  },
  {
   "cell_type": "code",
   "execution_count": 147,
   "metadata": {},
   "outputs": [],
   "source": [
    "o = df[(df.filename==fn) & (df.obj == 15)]"
   ]
  },
  {
   "cell_type": "code",
   "execution_count": 151,
   "metadata": {},
   "outputs": [
    {
     "data": {
      "text/plain": [
       "[<matplotlib.lines.Line2D at 0xc09c710>]"
      ]
     },
     "execution_count": 151,
     "metadata": {},
     "output_type": "execute_result"
    },
    {
     "data": {
      "image/png": "[encoded data removed]",
      "text/plain": [
       "<Figure size 432x288 with 1 Axes>"
      ]
     },
     "metadata": {
      "needs_background": "light"
     },
     "output_type": "display_data"
    }
   ],
   "source": [
    "imshow(im)\n",
    "plot(o.x, o.y)"
   ]
  },
  {
   "cell_type": "code",
   "execution_count": 59,
   "metadata": {},
   "outputs": [],
   "source": [
    "mat[arange(10), arange(10,20)]=1"
   ]
  },
  {
   "cell_type": "code",
   "execution_count": 60,
   "metadata": {},
   "outputs": [
    {
     "data": {
      "text/plain": [
       "array([[0., 0., 0., ..., 0., 0., 0.],\n",
       "       [0., 0., 0., ..., 0., 0., 0.],\n",
       "       [0., 0., 0., ..., 0., 0., 0.],\n",
       "       ...,\n",
       "       [0., 0., 0., ..., 0., 0., 0.],\n",
       "       [0., 0., 0., ..., 0., 0., 0.],\n",
       "       [0., 0., 0., ..., 0., 0., 0.]])"
      ]
     },
     "execution_count": 60,
     "metadata": {},
     "output_type": "execute_result"
    }
   ],
   "source": [
    "mat"
   ]
  },
  {
   "cell_type": "code",
   "execution_count": 62,
   "metadata": {},
   "outputs": [
    {
     "data": {
      "text/plain": [
       "array([[ 0,  1,  2,  3,  4,  5,  6,  7,  8,  9],\n",
       "       [10, 11, 12, 13, 14, 15, 16, 17, 18, 19]])"
      ]
     },
     "execution_count": 62,
     "metadata": {},
     "output_type": "execute_result"
    }
   ],
   "source": [
    "a"
   ]
  },
  {
   "cell_type": "code",
   "execution_count": 112,
   "metadata": {},
   "outputs": [
    {
     "data": {
      "text/plain": [
       "<matplotlib.image.AxesImage at 0x12d1a1b0>"
      ]
     },
     "execution_count": 112,
     "metadata": {},
     "output_type": "execute_result"
    },
    {
     "data": {
      "image/png": "[encoded data removed]",
      "text/plain": [
       "<Figure size 432x288 with 1 Axes>"
      ]
     },
     "metadata": {
      "needs_background": "light"
     },
     "output_type": "display_data"
    }
   ],
   "source": [
    "imshow(mat)"
   ]
  },
  {
   "cell_type": "code",
   "execution_count": null,
   "metadata": {},
   "outputs": [],
   "source": []
  },
  {
   "cell_type": "code",
   "execution_count": null,
   "metadata": {},
   "outputs": [],
   "source": []
  },
  {
   "cell_type": "code",
   "execution_count": null,
   "metadata": {},
   "outputs": [],
   "source": []
  },
  {
   "cell_type": "code",
   "execution_count": null,
   "metadata": {},
   "outputs": [],
   "source": []
  },
  {
   "cell_type": "code",
   "execution_count": 16,
   "metadata": {},
   "outputs": [
    {
     "data": {
      "text/plain": [
       "obj  filename                         \n",
       "0    14-16\\20170817012709_100.h264.txt      1\n",
       "     14-16\\20170817014225_100.h264.txt     70\n",
       "     14-16\\20170817015738_100.h264.txt     33\n",
       "     14-16\\20170817021250_100.h264.txt      1\n",
       "     14-16\\20170817022803_100.h264.txt      1\n",
       "     14-16\\20170817024314_100.h264.txt      1\n",
       "     14-16\\20170817025824_100.h264.txt      1\n",
       "     14-16\\20170817031337_100.h264.txt      1\n",
       "     14-16\\20170817032849_100.h264.txt      1\n",
       "     14-16\\20170817034403_100.h264.txt      1\n",
       "     14-16\\20170817035913_100.h264.txt      1\n",
       "     14-16\\20170817041423_100.h264.txt      1\n",
       "     14-16\\20170817042940_100.h264.txt      1\n",
       "     14-16\\20170817044512_100.h264.txt      1\n",
       "     14-16\\20170817050024_100.h264.txt      1\n",
       "     14-16\\20170817051536_100.h264.txt      1\n",
       "     14-16\\20170817053048_100.h264.txt      1\n",
       "     14-16\\20170817054601_100.h264.txt      1\n",
       "     14-16\\20170817060115_100.h264.txt      1\n",
       "     14-16\\20170817061630_100.h264.txt      1\n",
       "     14-16\\20170817063149_100.h264.txt      1\n",
       "     14-16\\20170817064702_100.h264.txt      1\n",
       "     14-16\\20170817070214_100.h264.txt      1\n",
       "     14-16\\20170817071725_100.h264.txt      1\n",
       "     14-16\\20170817073237_100.h264.txt      1\n",
       "     14-16\\20170817074815_100.h264.txt      1\n",
       "     14-16\\20170817080327_100.h264.txt      1\n",
       "     14-16\\20170817081851_100.h264.txt      1\n",
       "     14-16\\20170817083405_100.h264.txt      1\n",
       "     14-16\\20170817084919_100.h264.txt      1\n",
       "                                         ... \n",
       "614  14-16\\20170817015738_100.h264.txt    156\n",
       "615  14-16\\20170817015738_100.h264.txt    480\n",
       "616  14-16\\20170817015738_100.h264.txt    122\n",
       "617  14-16\\20170817015738_100.h264.txt    100\n",
       "618  14-16\\20170817015738_100.h264.txt    202\n",
       "619  14-16\\20170817015738_100.h264.txt    102\n",
       "620  14-16\\20170817015738_100.h264.txt    133\n",
       "621  14-16\\20170817015738_100.h264.txt    481\n",
       "622  14-16\\20170817015738_100.h264.txt    402\n",
       "623  14-16\\20170817015738_100.h264.txt     82\n",
       "624  14-16\\20170817015738_100.h264.txt    117\n",
       "625  14-16\\20170817015738_100.h264.txt    321\n",
       "626  14-16\\20170817015738_100.h264.txt    254\n",
       "627  14-16\\20170817015738_100.h264.txt     99\n",
       "628  14-16\\20170817015738_100.h264.txt    179\n",
       "629  14-16\\20170817015738_100.h264.txt    157\n",
       "630  14-16\\20170817015738_100.h264.txt    260\n",
       "631  14-16\\20170817015738_100.h264.txt    249\n",
       "632  14-16\\20170817015738_100.h264.txt     99\n",
       "633  14-16\\20170817015738_100.h264.txt    218\n",
       "634  14-16\\20170817015738_100.h264.txt    173\n",
       "635  14-16\\20170817015738_100.h264.txt    173\n",
       "636  14-16\\20170817015738_100.h264.txt    103\n",
       "637  14-16\\20170817015738_100.h264.txt     94\n",
       "638  14-16\\20170817015738_100.h264.txt     87\n",
       "639  14-16\\20170817015738_100.h264.txt     49\n",
       "640  14-16\\20170817015738_100.h264.txt     37\n",
       "641  14-16\\20170817015738_100.h264.txt     34\n",
       "642  14-16\\20170817015738_100.h264.txt     28\n",
       "643  14-16\\20170817015738_100.h264.txt     25\n",
       "Name: seq, Length: 24599, dtype: int64"
      ]
     },
     "execution_count": 16,
     "metadata": {},
     "output_type": "execute_result"
    }
   ],
   "source": [
    "ff = df.groupby(['obj','filename']).groupby"
   ]
  },
  {
   "cell_type": "code",
   "execution_count": null,
   "metadata": {},
   "outputs": [],
   "source": []
  },
  {
   "cell_type": "code",
   "execution_count": null,
   "metadata": {},
   "outputs": [],
   "source": []
  },
  {
   "cell_type": "code",
   "execution_count": null,
   "metadata": {},
   "outputs": [],
   "source": []
  },
  {
   "cell_type": "code",
   "execution_count": null,
   "metadata": {},
   "outputs": [],
   "source": []
  },
  {
   "cell_type": "code",
   "execution_count": null,
   "metadata": {},
   "outputs": [],
   "source": [
    "df.groupby(['obj','filename'])"
   ]
  },
  {
   "cell_type": "code",
   "execution_count": null,
   "metadata": {},
   "outputs": [],
   "source": []
  },
  {
   "cell_type": "code",
   "execution_count": null,
   "metadata": {},
   "outputs": [],
   "source": []
  }
 ],
 "metadata": {
  "kernelspec": {
   "display_name": "Python 3",
   "language": "python",
   "name": "python3"
  },
  "language_info": {
   "codemirror_mode": {
    "name": "ipython",
    "version": 3
   },
   "file_extension": ".py",
   "mimetype": "text/x-python",
   "name": "python",
   "nbconvert_exporter": "python",
   "pygments_lexer": "ipython3",
   "version": "3.7.0"
  }
 },
 "nbformat": 4,
 "nbformat_minor": 2
}
